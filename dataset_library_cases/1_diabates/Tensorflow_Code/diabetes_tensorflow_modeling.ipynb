{
 "cells": [
  {
   "cell_type": "code",
   "execution_count": 3,
   "id": "32ba32c6",
   "metadata": {},
   "outputs": [
    {
     "data": {
      "image/png": "[encoded data removed]",
      "text/plain": [
       "<Figure size 432x288 with 1 Axes>"
      ]
     },
     "metadata": {
      "needs_background": "light"
     },
     "output_type": "display_data"
    }
   ],
   "source": [
    "from sklearn.datasets import load_diabetes\n",
    "diabetes = load_diabetes()\n",
    "import matplotlib.pyplot as plt\n",
    "\n",
    "# print(diabetes)\n",
    "# print(type(diabetes))\n",
    "\n",
    "# print(diabetes.data_filename)\n",
    "\n",
    "# print(diabetes.data.shape)\n",
    "# print(diabetes.target.shape)\n",
    "\n",
    "## 2번째 bmi값\n",
    "x = diabetes.data[:, 2]\n",
    "\n",
    "# print(x)\n",
    "# print(x.shape)\n",
    "y = diabetes.target\n",
    "\n",
    "plt.scatter(x, y)\n",
    "plt.xlabel('x')\n",
    "plt.ylabel('y')\n",
    "plt.show()"
   ]
  },
  {
   "cell_type": "code",
   "execution_count": 15,
   "id": "c44fb3cf",
   "metadata": {},
   "outputs": [
    {
     "name": "stdout",
     "output_type": "stream",
     "text": [
      "2.8.0\n"
     ]
    }
   ],
   "source": [
    "import tensorflow as tf\n",
    "from tensorflow import keras\n",
    "from tensorflow.keras import layers\n",
    "\n",
    "print(tf.__version__)\n"
   ]
  },
  {
   "cell_type": "code",
   "execution_count": 16,
   "id": "c368a8d5",
   "metadata": {},
   "outputs": [
    {
     "name": "stdout",
     "output_type": "stream",
     "text": [
      "<class 'sklearn.utils.Bunch'>\n",
      "<class 'pandas.core.frame.DataFrame'>\n",
      "<class 'pandas.core.frame.DataFrame'>\n"
     ]
    }
   ],
   "source": [
    "print(type(diabetes))\n",
    "\n",
    "# Change to ndarray \n",
    "\n",
    "dataset_dia = diabetes.data\n",
    "print(type(dataset_dia))\n",
    "\n",
    "\n",
    "#diabetes.data returns dataframe if \"as_frame=True\" option is set for the load_diabetes\n",
    "\n",
    "diabetes = load_diabetes(as_frame=True)\n",
    "df_dia = diabetes.data\n",
    "print(type(dataset_dia))\n",
    "\n"
   ]
  },
  {
   "cell_type": "code",
   "execution_count": 17,
   "id": "7c1e23ba",
   "metadata": {},
   "outputs": [
    {
     "data": {
      "text/html": [
       "<div>\n",
       "<style scoped>\n",
       "    .dataframe tbody tr th:only-of-type {\n",
       "        vertical-align: middle;\n",
       "    }\n",
       "\n",
       "    .dataframe tbody tr th {\n",
       "        vertical-align: top;\n",
       "    }\n",
       "\n",
       "    .dataframe thead th {\n",
       "        text-align: right;\n",
       "    }\n",
       "</style>\n",
       "<table border=\"1\" class=\"dataframe\">\n",
       "  <thead>\n",
       "    <tr style=\"text-align: right;\">\n",
       "      <th></th>\n",
       "      <th>age</th>\n",
       "      <th>sex</th>\n",
       "      <th>bmi</th>\n",
       "      <th>bp</th>\n",
       "      <th>s1</th>\n",
       "      <th>s2</th>\n",
       "      <th>s3</th>\n",
       "      <th>s4</th>\n",
       "      <th>s5</th>\n",
       "      <th>s6</th>\n",
       "    </tr>\n",
       "  </thead>\n",
       "  <tbody>\n",
       "    <tr>\n",
       "      <th>437</th>\n",
       "      <td>0.041708</td>\n",
       "      <td>0.050680</td>\n",
       "      <td>0.019662</td>\n",
       "      <td>0.059744</td>\n",
       "      <td>-0.005697</td>\n",
       "      <td>-0.002566</td>\n",
       "      <td>-0.028674</td>\n",
       "      <td>-0.002592</td>\n",
       "      <td>0.031193</td>\n",
       "      <td>0.007207</td>\n",
       "    </tr>\n",
       "    <tr>\n",
       "      <th>438</th>\n",
       "      <td>-0.005515</td>\n",
       "      <td>0.050680</td>\n",
       "      <td>-0.015906</td>\n",
       "      <td>-0.067642</td>\n",
       "      <td>0.049341</td>\n",
       "      <td>0.079165</td>\n",
       "      <td>-0.028674</td>\n",
       "      <td>0.034309</td>\n",
       "      <td>-0.018118</td>\n",
       "      <td>0.044485</td>\n",
       "    </tr>\n",
       "    <tr>\n",
       "      <th>439</th>\n",
       "      <td>0.041708</td>\n",
       "      <td>0.050680</td>\n",
       "      <td>-0.015906</td>\n",
       "      <td>0.017282</td>\n",
       "      <td>-0.037344</td>\n",
       "      <td>-0.013840</td>\n",
       "      <td>-0.024993</td>\n",
       "      <td>-0.011080</td>\n",
       "      <td>-0.046879</td>\n",
       "      <td>0.015491</td>\n",
       "    </tr>\n",
       "    <tr>\n",
       "      <th>440</th>\n",
       "      <td>-0.045472</td>\n",
       "      <td>-0.044642</td>\n",
       "      <td>0.039062</td>\n",
       "      <td>0.001215</td>\n",
       "      <td>0.016318</td>\n",
       "      <td>0.015283</td>\n",
       "      <td>-0.028674</td>\n",
       "      <td>0.026560</td>\n",
       "      <td>0.044528</td>\n",
       "      <td>-0.025930</td>\n",
       "    </tr>\n",
       "    <tr>\n",
       "      <th>441</th>\n",
       "      <td>-0.045472</td>\n",
       "      <td>-0.044642</td>\n",
       "      <td>-0.073030</td>\n",
       "      <td>-0.081414</td>\n",
       "      <td>0.083740</td>\n",
       "      <td>0.027809</td>\n",
       "      <td>0.173816</td>\n",
       "      <td>-0.039493</td>\n",
       "      <td>-0.004220</td>\n",
       "      <td>0.003064</td>\n",
       "    </tr>\n",
       "  </tbody>\n",
       "</table>\n",
       "</div>"
      ],
      "text/plain": [
       "          age       sex       bmi        bp        s1        s2        s3  \\\n",
       "437  0.041708  0.050680  0.019662  0.059744 -0.005697 -0.002566 -0.028674   \n",
       "438 -0.005515  0.050680 -0.015906 -0.067642  0.049341  0.079165 -0.028674   \n",
       "439  0.041708  0.050680 -0.015906  0.017282 -0.037344 -0.013840 -0.024993   \n",
       "440 -0.045472 -0.044642  0.039062  0.001215  0.016318  0.015283 -0.028674   \n",
       "441 -0.045472 -0.044642 -0.073030 -0.081414  0.083740  0.027809  0.173816   \n",
       "\n",
       "           s4        s5        s6  \n",
       "437 -0.002592  0.031193  0.007207  \n",
       "438  0.034309 -0.018118  0.044485  \n",
       "439 -0.011080 -0.046879  0.015491  \n",
       "440  0.026560  0.044528 -0.025930  \n",
       "441 -0.039493 -0.004220  0.003064  "
      ]
     },
     "execution_count": 17,
     "metadata": {},
     "output_type": "execute_result"
    }
   ],
   "source": [
    "df_dia.tail()"
   ]
  },
  {
   "cell_type": "code",
   "execution_count": 6,
   "id": "e7fefa89",
   "metadata": {},
   "outputs": [
    {
     "data": {
      "text/plain": [
       "age    0\n",
       "sex    0\n",
       "bmi    0\n",
       "bp     0\n",
       "s1     0\n",
       "s2     0\n",
       "s3     0\n",
       "s4     0\n",
       "s5     0\n",
       "s6     0\n",
       "dtype: int64"
      ]
     },
     "execution_count": 6,
     "metadata": {},
     "output_type": "execute_result"
    }
   ],
   "source": [
    "#isna() # 값이 NA이면 True, 아니면 False\n",
    "df_dia.isna().sum()"
   ]
  },
  {
   "cell_type": "code",
   "execution_count": 7,
   "id": "9ff00af9",
   "metadata": {},
   "outputs": [
    {
     "name": "stdout",
     "output_type": "stream",
     "text": [
      "(354, 10)\n",
      "(88, 10)\n"
     ]
    }
   ],
   "source": [
    "# test sample, train sample 분할\n",
    "train_diabetes = df_dia.sample(frac=0.8,random_state=0)\n",
    "test_diabetes = df_dia.drop(train_diabetes.index)\n",
    "\n",
    "print(train_diabetes.shape)\n",
    "print(test_diabetes.shape)\n"
   ]
  },
  {
   "cell_type": "code",
   "execution_count": 32,
   "id": "913abda9",
   "metadata": {},
   "outputs": [
    {
     "name": "stdout",
     "output_type": "stream",
     "text": [
      "(354, 10)\n",
      "(88, 10)\n",
      "     count      mean       std       min       25%       50%       75%  \\\n",
      "age  354.0 -0.000702  0.047152 -0.107226 -0.037299  0.005383  0.037168   \n",
      "sex  354.0 -0.001289  0.047533 -0.044642 -0.044642 -0.044642  0.050680   \n",
      "bp   354.0 -0.000234  0.047266 -0.112400 -0.036656 -0.005671  0.035644   \n",
      "s1   354.0 -0.000663  0.047865 -0.126781 -0.034592 -0.004321  0.026982   \n",
      "s2   354.0 -0.000124  0.048652 -0.115613 -0.031141 -0.007420  0.030940   \n",
      "s3   354.0  0.000919  0.048366 -0.098625 -0.032356 -0.006584  0.026550   \n",
      "s4   354.0 -0.001514  0.046538 -0.076395 -0.039493 -0.002592  0.034309   \n",
      "s5   354.0 -0.001851  0.046333 -0.126097 -0.033249 -0.004683  0.031036   \n",
      "s6   354.0  0.001379  0.046179 -0.129483 -0.030072 -0.001078  0.027917   \n",
      "\n",
      "          max  \n",
      "age  0.110727  \n",
      "sex  0.050680  \n",
      "bp   0.132044  \n",
      "s1   0.153914  \n",
      "s2   0.198788  \n",
      "s3   0.181179  \n",
      "s4   0.185234  \n",
      "s5   0.133599  \n",
      "s6   0.135612  \n",
      "(9, 8)\n",
      "          age  bmi        bp        s1        s2        s3        s4  \\\n",
      "362  0.437207  NaN  1.487475 -0.737578 -0.545821 -0.535750 -0.023161   \n",
      "249 -0.256144  NaN  1.123271  1.015947  0.606313 -0.383508  0.769770   \n",
      "271  0.822402  NaN  0.904749 -0.881310 -0.429964 -0.840234 -0.023161   \n",
      "435 -0.256144  NaN -0.843431 -0.335130  0.097829 -0.383508 -0.023161   \n",
      "400 -0.487261  NaN  1.924520 -0.363876 -0.726043  1.443397 -0.816092   \n",
      "..        ...  ...       ...       ...       ...       ...       ...   \n",
      "207  0.206090  NaN  0.613385  0.268542 -0.281924  0.529944 -0.816092   \n",
      "279  0.822402  NaN  0.103500 -0.536354 -0.539384  0.301581 -0.816092   \n",
      "227  1.438714  NaN  1.220392  0.009826 -0.320543  1.519518 -1.053971   \n",
      "148 -1.257650  NaN -0.406386  0.785976  0.992503  0.377702 -0.023161   \n",
      "143 -0.641339  NaN -0.187863  0.412274  0.142885  1.519518 -0.816092   \n",
      "\n",
      "           s5        s6       sex  \n",
      "362  0.120068  0.843758  1.093330  \n",
      "249  1.555327  0.126184 -0.912053  \n",
      "271 -0.351089  0.126184  1.093330  \n",
      "435 -0.790105 -0.860481 -0.912053  \n",
      "400 -0.705167 -0.232603 -0.912053  \n",
      "..        ...       ...       ...  \n",
      "207  1.035631  0.754061 -0.912053  \n",
      "279 -0.305333 -0.591390  1.093330  \n",
      "227 -0.790105  0.126184  1.093330  \n",
      "148 -0.623745 -0.053210  1.093330  \n",
      "143 -0.848838 -0.950177 -0.912053  \n",
      "\n",
      "[354 rows x 10 columns]\n"
     ]
    }
   ],
   "source": [
    "train_stats = train_diabetes.describe()\n",
    "train_stats.pop(\"bmi\")\n",
    "train_stats = train_stats.transpose()\n",
    "\n",
    "\n",
    "\"\"\"\n",
    "특성의 스케일과 범위가 다르면 정규화(normalization)하는 것이 권장됩니다. \n",
    "특성을 정규화하지 않아도 모델이 수렴할 수 있지만, 훈련시키기 어렵고 입력 단위에 의존적인 모델이 만들어집니다.\n",
    "\n",
    "\n",
    "노트: 의도적으로 훈련 세트만 사용하여 통계치를 생성했습니다. \n",
    "이 통계는 테스트 세트를 정규화할 때에도 사용됩니다. \n",
    "이는 테스트 세트를 모델이 훈련에 사용했던 것과 동일한 분포로 투영하기 위해서입니다.\n",
    "\"\"\"\n",
    "\n",
    "def norm(x):\n",
    "  return (x - train_stats['mean']) / train_stats['std']\n",
    "\n",
    "normed_train_diabetes = norm(train_diabetes)\n",
    "normed_test_diabetes = norm(test_diabetes)\n",
    "\n",
    "\n",
    "print(normed_train_diabetes.shape)\n",
    "print(normed_test_diabetes.shape)\n",
    "\n",
    "print(train_stats)\n",
    "print(train_stats.shape)\n",
    "\n",
    "\n",
    "print(normed_train_diabetes)"
   ]
  },
  {
   "cell_type": "code",
   "execution_count": 21,
   "id": "25d0b1fe",
   "metadata": {},
   "outputs": [],
   "source": [
    "def build_model():\n",
    "  model = keras.Sequential([\n",
    "    layers.Dense(64, activation='relu', input_shape=[len(train_diabetes.keys())]),\n",
    "    layers.Dense(64, activation='relu'),\n",
    "    layers.Dense(1)\n",
    "  ])\n",
    "\n",
    "  optimizer = tf.keras.optimizers.RMSprop(0.001)\n",
    "\n",
    "  model.compile(loss='mse',\n",
    "                optimizer=optimizer,\n",
    "                metrics=['mae', 'mse'])\n",
    "  return model"
   ]
  },
  {
   "cell_type": "code",
   "execution_count": 22,
   "id": "3bd31e20",
   "metadata": {},
   "outputs": [],
   "source": [
    "model = build_model()\n"
   ]
  },
  {
   "cell_type": "code",
   "execution_count": 24,
   "id": "cd90190b",
   "metadata": {},
   "outputs": [
    {
     "name": "stdout",
     "output_type": "stream",
     "text": [
      "Model: \"sequential\"\n",
      "_________________________________________________________________\n",
      " Layer (type)                Output Shape              Param #   \n",
      "=================================================================\n",
      " dense (Dense)               (None, 64)                704       \n",
      "                                                                 \n",
      " dense_1 (Dense)             (None, 64)                4160      \n",
      "                                                                 \n",
      " dense_2 (Dense)             (None, 1)                 65        \n",
      "                                                                 \n",
      "=================================================================\n",
      "Total params: 4,929\n",
      "Trainable params: 4,929\n",
      "Non-trainable params: 0\n",
      "_________________________________________________________________\n",
      "10\n"
     ]
    }
   ],
   "source": [
    "model.summary()\n",
    "print(len(train_diabetes.keys()))\n",
    "#dense Param 704 = [345,10]  (None, 64)  -> 10 * 64 + 64 \n",
    "#dense Param 4160 = [64,]  (None, 64)  -> 64* 64 + 64 \n",
    "#dense Param 65 = [64,]  (None, 1)  -> 64 * 1 + 1 \n"
   ]
  },
  {
   "cell_type": "code",
   "execution_count": 26,
   "id": "a9b48900",
   "metadata": {},
   "outputs": [
    {
     "name": "stdout",
     "output_type": "stream",
     "text": [
      "          age       sex       bmi        bp        s1        s2        s3  \\\n",
      "362  0.437207  1.093330  2.163730  1.487475 -0.737578 -0.545821 -0.535750   \n",
      "249 -0.256144 -0.912053  1.238385  1.123271  1.015947  0.606313 -0.383508   \n",
      "271  0.822402  1.093330  0.155053  0.904749 -0.881310 -0.429964 -0.840234   \n",
      "435 -0.256144 -0.912053 -0.522029 -0.843431 -0.335130  0.097829 -0.383508   \n",
      "400 -0.487261 -0.912053  0.922413  1.924520 -0.363876 -0.726043  1.443397   \n",
      "403 -0.410222 -0.912053  2.005744 -0.115023 -0.105160 -0.487892 -0.459629   \n",
      "12   0.360168 -0.912053 -0.634876 -0.187863 -0.076413 -0.198250  0.910550   \n",
      "399  1.284636  1.093330  0.448455  1.050430  0.354781  0.245869 -0.307387   \n",
      "198 -1.103572 -0.912053  1.102968 -0.552067 -1.140027 -0.693860 -0.307387   \n",
      "205 -0.641339 -0.912053  0.944982  0.322022 -0.335130 -0.964193 -0.002903   \n",
      "\n",
      "           s4        s5        s6  \n",
      "362 -0.023161  0.120068  0.843758  \n",
      "249  0.769770  1.555327  0.126184  \n",
      "271 -0.023161 -0.351089  0.126184  \n",
      "435 -0.023161 -0.790105 -0.860481  \n",
      "400 -0.816092 -0.705167 -0.232603  \n",
      "403 -0.023161  1.371322  0.843758  \n",
      "12  -0.816092 -0.623745 -0.950177  \n",
      "399 -0.023161  0.893346  0.395274  \n",
      "198 -0.816092 -1.559102 -1.308964  \n",
      "205 -0.023161  1.409526 -0.591390  \n"
     ]
    },
    {
     "data": {
      "text/plain": [
       "array([[-0.22214207],\n",
       "       [-0.66904783],\n",
       "       [-0.09791973],\n",
       "       [ 0.01999967],\n",
       "       [ 0.15317416],\n",
       "       [-0.35415292],\n",
       "       [-0.05514781],\n",
       "       [-0.27888796],\n",
       "       [ 0.25033063],\n",
       "       [-0.14032474]], dtype=float32)"
      ]
     },
     "execution_count": 26,
     "metadata": {},
     "output_type": "execute_result"
    }
   ],
   "source": [
    "example_batch = normed_train_diabetes[:10]\n",
    "\n",
    "print(example_batch)\n",
    "example_result = model.predict(example_batch)\n",
    "example_result"
   ]
  },
  {
   "cell_type": "code",
   "execution_count": null,
   "id": "8eb5b560",
   "metadata": {},
   "outputs": [],
   "source": []
  }
 ],
 "metadata": {
  "kernelspec": {
   "display_name": "Python 3 (ipykernel)",
   "language": "python",
   "name": "python3"
  },
  "language_info": {
   "codemirror_mode": {
    "name": "ipython",
    "version": 3
   },
   "file_extension": ".py",
   "mimetype": "text/x-python",
   "name": "python",
   "nbconvert_exporter": "python",
   "pygments_lexer": "ipython3",
   "version": "3.9.7"
  }
 },
 "nbformat": 4,
 "nbformat_minor": 5
}
