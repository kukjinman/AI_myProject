{
 "cells": [
  {
   "cell_type": "code",
   "execution_count": 2,
   "id": "f97a8a26",
   "metadata": {},
   "outputs": [
    {
     "name": "stdout",
     "output_type": "stream",
     "text": [
      "Collecting wget\n",
      "  Downloading wget-3.2.zip (10 kB)\n",
      "Building wheels for collected packages: wget\n",
      "  Building wheel for wget (setup.py): started\n",
      "  Building wheel for wget (setup.py): finished with status 'done'\n",
      "  Created wheel for wget: filename=wget-3.2-py3-none-any.whl size=9672 sha256=59f3eeb348971d72754271d704da5365eaad89b35c035f1d3a43e5ad2361bd65\n",
      "  Stored in directory: c:\\users\\user\\appdata\\local\\pip\\cache\\wheels\\04\\5f\\3e\\46cc37c5d698415694d83f607f833f83f0149e49b3af9d0f38\n",
      "Successfully built wget\n",
      "Installing collected packages: wget\n",
      "Successfully installed wget-3.2\n"
     ]
    }
   ],
   "source": [
    "!pip install wget"
   ]
  },
  {
   "cell_type": "code",
   "execution_count": 4,
   "id": "825e1489",
   "metadata": {},
   "outputs": [
    {
     "name": "stdout",
     "output_type": "stream",
     "text": [
      "100% [..............................................................................] 18496 / 18496"
     ]
    },
    {
     "data": {
      "text/plain": [
       "'diabetes.tab.txt_copy (1).txt'"
      ]
     },
     "execution_count": 4,
     "metadata": {},
     "output_type": "execute_result"
    }
   ],
   "source": [
    "import wget\n",
    "\n",
    "# Define the remote file to retrieve\n",
    "remote_url = 'https://www4.stat.ncsu.edu/~boos/var.select/diabetes.tab.txt'\n",
    "# Define the local filename to save data\n",
    "local_file = 'diabetes.tab.txt_copy.txt'\n",
    "# Make http request for remote file data\n",
    "wget.download(remote_url, local_file)"
   ]
  },
  {
   "cell_type": "code",
   "execution_count": 8,
   "id": "d40a9c03",
   "metadata": {},
   "outputs": [
    {
     "name": "stdout",
     "output_type": "stream",
     "text": [
      "        age       sex       bmi        bp        s1        s2        s3  \\\n",
      "0  0.038076  0.050680  0.061696  0.021872 -0.044223 -0.034821 -0.043401   \n",
      "1 -0.001882 -0.044642 -0.051474 -0.026328 -0.008449 -0.019163  0.074412   \n",
      "2  0.085299  0.050680  0.044451 -0.005671 -0.045599 -0.034194 -0.032356   \n",
      "3 -0.089063 -0.044642 -0.011595 -0.036656  0.012191  0.024991 -0.036038   \n",
      "4  0.005383 -0.044642 -0.036385  0.021872  0.003935  0.015596  0.008142   \n",
      "\n",
      "         s4        s5        s6  target  \n",
      "0 -0.002592  0.019908 -0.017646   151.0  \n",
      "1 -0.039493 -0.068330 -0.092204    75.0  \n",
      "2 -0.002592  0.002864 -0.025930   141.0  \n",
      "3  0.034309  0.022692 -0.009362   206.0  \n",
      "4 -0.002592 -0.031991 -0.046641   135.0  \n",
      "          age       sex       bmi        bp        s1        s2        s3  \\\n",
      "437  0.041708  0.050680  0.019662  0.059744 -0.005697 -0.002566 -0.028674   \n",
      "438 -0.005515  0.050680 -0.015906 -0.067642  0.049341  0.079165 -0.028674   \n",
      "439  0.041708  0.050680 -0.015906  0.017282 -0.037344 -0.013840 -0.024993   \n",
      "440 -0.045472 -0.044642  0.039062  0.001215  0.016318  0.015283 -0.028674   \n",
      "441 -0.045472 -0.044642 -0.073030 -0.081414  0.083740  0.027809  0.173816   \n",
      "\n",
      "           s4        s5        s6  target  \n",
      "437 -0.002592  0.031193  0.007207   178.0  \n",
      "438  0.034309 -0.018118  0.044485   104.0  \n",
      "439 -0.011080 -0.046879  0.015491   132.0  \n",
      "440  0.026560  0.044528 -0.025930   220.0  \n",
      "441 -0.039493 -0.004220  0.003064    57.0  \n",
      "(442, 11)\n",
      "                age           sex           bmi            bp            s1  \\\n",
      "count  4.420000e+02  4.420000e+02  4.420000e+02  4.420000e+02  4.420000e+02   \n",
      "mean  -3.634285e-16  1.308343e-16 -8.045349e-16  1.281655e-16 -8.835316e-17   \n",
      "std    4.761905e-02  4.761905e-02  4.761905e-02  4.761905e-02  4.761905e-02   \n",
      "min   -1.072256e-01 -4.464164e-02 -9.027530e-02 -1.123996e-01 -1.267807e-01   \n",
      "25%   -3.729927e-02 -4.464164e-02 -3.422907e-02 -3.665645e-02 -3.424784e-02   \n",
      "50%    5.383060e-03 -4.464164e-02 -7.283766e-03 -5.670611e-03 -4.320866e-03   \n",
      "75%    3.807591e-02  5.068012e-02  3.124802e-02  3.564384e-02  2.835801e-02   \n",
      "max    1.107267e-01  5.068012e-02  1.705552e-01  1.320442e-01  1.539137e-01   \n",
      "\n",
      "                 s2            s3            s4            s5            s6  \\\n",
      "count  4.420000e+02  4.420000e+02  4.420000e+02  4.420000e+02  4.420000e+02   \n",
      "mean   1.327024e-16 -4.574646e-16  3.777301e-16 -3.830854e-16 -3.412882e-16   \n",
      "std    4.761905e-02  4.761905e-02  4.761905e-02  4.761905e-02  4.761905e-02   \n",
      "min   -1.156131e-01 -1.023071e-01 -7.639450e-02 -1.260974e-01 -1.377672e-01   \n",
      "25%   -3.035840e-02 -3.511716e-02 -3.949338e-02 -3.324879e-02 -3.317903e-02   \n",
      "50%   -3.819065e-03 -6.584468e-03 -2.592262e-03 -1.947634e-03 -1.077698e-03   \n",
      "75%    2.984439e-02  2.931150e-02  3.430886e-02  3.243323e-02  2.791705e-02   \n",
      "max    1.987880e-01  1.811791e-01  1.852344e-01  1.335990e-01  1.356118e-01   \n",
      "\n",
      "           target  \n",
      "count  442.000000  \n",
      "mean   152.133484  \n",
      "std     77.093005  \n",
      "min     25.000000  \n",
      "25%     87.000000  \n",
      "50%    140.500000  \n",
      "75%    211.500000  \n",
      "max    346.000000  \n",
      "200.0    6\n",
      "72.0     6\n",
      "90.0     5\n",
      "178.0    5\n",
      "71.0     5\n",
      "        ..\n",
      "73.0     1\n",
      "222.0    1\n",
      "86.0     1\n",
      "79.0     1\n",
      "57.0     1\n",
      "Name: target, Length: 214, dtype: int64\n",
      "(442, 10)\n",
      "(442,)\n"
     ]
    }
   ],
   "source": [
    "import numpy as np\n",
    "import pandas as pd\n",
    "from sklearn import datasets\n",
    "#\n",
    "from sklearn import model_selection\n",
    "from sklearn import metrics\n",
    "\n",
    "dataset = datasets.load_diabetes()\n",
    "\n",
    "# print(dataset.DESCR)\n",
    "\n",
    "\n",
    "df = pd.DataFrame(dataset.data, columns=dataset.feature_names)\n",
    "df['target'] = dataset.target\n",
    "print(df.head())\n",
    "'''\n",
    "        age       sex       bmi   ...          s5        s6  target\n",
    "0  0.038076  0.050680  0.061696   ...    0.019908 -0.017646   151.0\n",
    "1 -0.001882 -0.044642 -0.051474   ...   -0.068330 -0.092204    75.0\n",
    "2  0.085299  0.050680  0.044451   ...    0.002864 -0.025930   141.0\n",
    "3 -0.089063 -0.044642 -0.011595   ...    0.022692 -0.009362   206.0\n",
    "4  0.005383 -0.044642 -0.036385   ...   -0.031991 -0.046641   135.0\n",
    "\n",
    "[5 rows x 11 columns]\n",
    "'''\n",
    "print(df.tail())\n",
    "'''\n",
    "          age       sex       bmi   ...          s5        s6  target\n",
    "437  0.041708  0.050680  0.019662   ...    0.031193  0.007207   178.0\n",
    "438 -0.005515  0.050680 -0.015906   ...   -0.018118  0.044485   104.0\n",
    "439  0.041708  0.050680 -0.015906   ...   -0.046879  0.015491   132.0\n",
    "440 -0.045472 -0.044642  0.039062   ...    0.044528 -0.025930   220.0\n",
    "441 -0.045472 -0.044642 -0.073030   ...   -0.004220  0.003064    57.0\n",
    "\n",
    "[5 rows x 11 columns]\n",
    "'''\n",
    "print(df.shape) #(442, 11)\n",
    "print(df.describe())\n",
    "'''\n",
    "                age           sex     ...                s6      target\n",
    "count  4.420000e+02  4.420000e+02     ...      4.420000e+02  442.000000\n",
    "mean  -3.639623e-16  1.309912e-16     ...     -3.398488e-16  152.133484\n",
    "std    4.761905e-02  4.761905e-02     ...      4.761905e-02   77.093005\n",
    "min   -1.072256e-01 -4.464164e-02     ...     -1.377672e-01   25.000000\n",
    "25%   -3.729927e-02 -4.464164e-02     ...     -3.317903e-02   87.000000\n",
    "50%    5.383060e-03 -4.464164e-02     ...     -1.077698e-03  140.500000\n",
    "75%    3.807591e-02  5.068012e-02     ...      2.791705e-02  211.500000\n",
    "max    1.107267e-01  5.068012e-02     ...      1.356118e-01  346.000000\n",
    "\n",
    "[8 rows x 11 columns]\n",
    "'''\n",
    "\n",
    "# last target data value count \n",
    "print(df.iloc[:,-1].value_counts())\n",
    "'''\n",
    "'''\n",
    "\n",
    "x_data = dataset.data\n",
    "y_data = dataset.target\n",
    "print(x_data.shape) #(442, 10)\n",
    "print(y_data.shape) #(442,)"
   ]
  },
  {
   "cell_type": "code",
   "execution_count": 18,
   "id": "998d0cd8",
   "metadata": {},
   "outputs": [
    {
     "data": {
      "image/png": "[encoded data removed]",
      "text/plain": [
       "<Figure size 432x288 with 1 Axes>"
      ]
     },
     "metadata": {
      "needs_background": "light"
     },
     "output_type": "display_data"
    }
   ],
   "source": [
    "from sklearn.datasets import load_diabetes\n",
    "diabetes = load_diabetes()\n",
    "import matplotlib.pyplot as plt\n",
    "\n",
    "# print(diabetes)\n",
    "# print(type(diabetes))\n",
    "\n",
    "# print(diabetes.data_filename)\n",
    "\n",
    "# print(diabetes.data.shape)\n",
    "# print(diabetes.target.shape)\n",
    "\n",
    "## 2번째 bmi값\n",
    "x = diabetes.data[:, 2]\n",
    "\n",
    "# print(x)\n",
    "# print(x.shape)\n",
    "y = diabetes.target\n",
    "\n",
    "plt.scatter(x, y)\n",
    "plt.xlabel('x')\n",
    "plt.ylabel('y')\n",
    "plt.show()\n",
    "\n"
   ]
  },
  {
   "cell_type": "code",
   "execution_count": 19,
   "id": "2ca5e80e",
   "metadata": {},
   "outputs": [
    {
     "name": "stdout",
     "output_type": "stream",
     "text": [
      "w= 9.819118656206367\n",
      "b= 151.35590713560302\n"
     ]
    },
    {
     "data": {
      "image/png": "[encoded data removed]",
      "text/plain": [
       "<Figure size 432x288 with 1 Axes>"
      ]
     },
     "metadata": {
      "needs_background": "light"
     },
     "output_type": "display_data"
    }
   ],
   "source": [
    "# a = [1,2,3]\n",
    "# b = [4,5,6]\n",
    "# for a_i, b_i in zip(a, b):\n",
    "#     print(a_i, b_i)    \n",
    "\n",
    "w = 1.0\n",
    "b = 1.0\n",
    "rate = 0.01\n",
    "for x_i, y_i in zip(x, y):\n",
    "    y_hat = x_i * w + b\n",
    "    err = y_hat - y_i\n",
    "    w = w - rate * err * x_i\n",
    "    b = b - rate * err\n",
    "\n",
    "print('w=', w)\n",
    "print('b=', b)\n",
    "plt.scatter(x, y)\n",
    "pt1 = (-0.1, -0.1 * w + b)\n",
    "pt2 = (0.15, 0.15 * w + b)\n",
    "plt.plot([pt1[0], pt2[0]], [pt1[1], pt2[1]], 'r-')\n",
    "plt.xlabel('x')\n",
    "plt.ylabel('y')\n",
    "plt.show()"
   ]
  },
  {
   "cell_type": "code",
   "execution_count": 20,
   "id": "c4fa3c9a",
   "metadata": {},
   "outputs": [
    {
     "name": "stdout",
     "output_type": "stream",
     "text": [
      "w= 942.7017795935557\n",
      "b= 151.7460799792498\n"
     ]
    },
    {
     "data": {
      "image/png": "[encoded data removed]",
      "text/plain": [
       "<Figure size 432x288 with 1 Axes>"
      ]
     },
     "metadata": {
      "needs_background": "light"
     },
     "output_type": "display_data"
    }
   ],
   "source": [
    "rate = 0.01\n",
    "\n",
    "for i in range(1000):\n",
    "    for x_i, y_i in zip(x, y):\n",
    "        y_hat = x_i * w + b\n",
    "        err = y_hat - y_i \n",
    "\n",
    "        w = w - rate * err * x_i\n",
    "        b = b - rate * err\n",
    "\n",
    "print('w=', w)\n",
    "print('b=', b)        \n",
    "plt.scatter(x, y)\n",
    "pt1 = (-0.1, -0.1 * w + b)\n",
    "pt2 = (0.15, 0.15 * w + b)\n",
    "plt.plot([pt1[0], pt2[0]], [pt1[1], pt2[1]], 'r-')\n",
    "plt.xlabel('x')\n",
    "plt.ylabel('y')\n",
    "plt.show()"
   ]
  },
  {
   "cell_type": "code",
   "execution_count": null,
   "id": "7e598dd3",
   "metadata": {},
   "outputs": [],
   "source": [
    "class Neuron:\n",
    "    \n",
    "    def __init__(self):\n",
    "        self.w = 1.0     # 가중치를 초기화합니다\n",
    "        self.b = 1.0     # 절편을 초기화합니다\n",
    "    \n",
    "    def forpass(self, x):\n",
    "        y_hat = x * self.w + self.b       # 직선 방정식을 계산합니다\n",
    "        return y_hat\n",
    "    \n",
    "    def backprop(self, x, err):\n",
    "        w_grad = x * err    # 가중치에 대한 그래디언트를 계산합니다\n",
    "        b_grad = 1 * err    # 절편에 대한 그래디언트를 계산합니다\n",
    "        return w_grad, b_grad\n",
    "\n",
    "    def fit(self, x, y, epochs=100, rate=0.01):\n",
    "        for i in range(epochs):           # 에포크만큼 반복합니다\n",
    "            for x_i, y_i in zip(x, y):    # 모든 샘플에 대해 반복합니다\n",
    "                y_hat = self.forpass(x_i) # 정방향 계산\n",
    "                err = y_hat - y_i      # 오차 계산\n",
    "                w_grad, b_grad = self.backprop(x_i, err)  # 역방향 계산\n",
    "                self.w -= rate*w_grad          # 가중치 업데이트\n",
    "                self.b -= rate*b_grad          # 절편 업데이트\n",
    "                \n",
    "neuron = Neuron()\n",
    "neuron.fit(x, y, epochs=1000)\n",
    "\n",
    "plt.scatter(x, y)\n",
    "pt1 = (-0.1, -0.1 * neuron.w + neuron.b)\n",
    "pt2 = (0.15, 0.15 * neuron.w + neuron.b)\n",
    "\n",
    "print(type(pt1))\n",
    "print(pt1)\n",
    "print(pt2)\n",
    "\n",
    "\n",
    "\n",
    "print([pt1[0], pt2[0]])\n",
    "print(type([pt1[0], pt2[0]]))\n",
    "\n",
    "\n",
    "plt.plot([pt1[0], pt2[0]], [pt1[1], pt2[1]],'r')\n",
    "\n",
    "plt.plot(0.18, 0.18 * neuron.w + neuron.b, 'ro')\n",
    "\n",
    "plt.xlabel('x')\n",
    "plt.ylabel('y')\n",
    "plt.show()"
   ]
  },
  {
   "cell_type": "code",
   "execution_count": null,
   "id": "e81fecd1",
   "metadata": {},
   "outputs": [],
   "source": []
  }
 ],
 "metadata": {
  "kernelspec": {
   "display_name": "Python 3 (ipykernel)",
   "language": "python",
   "name": "python3"
  },
  "language_info": {
   "codemirror_mode": {
    "name": "ipython",
    "version": 3
   },
   "file_extension": ".py",
   "mimetype": "text/x-python",
   "name": "python",
   "nbconvert_exporter": "python",
   "pygments_lexer": "ipython3",
   "version": "3.9.7"
  }
 },
 "nbformat": 4,
 "nbformat_minor": 5
}
